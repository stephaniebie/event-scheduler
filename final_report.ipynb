{
 "cells": [
  {
   "cell_type": "markdown",
   "id": "88786c4c-d8cd-413e-adf9-280fac8368b3",
   "metadata": {},
   "source": [
    "# Final Report"
   ]
  },
  {
   "cell_type": "code",
   "execution_count": 132,
   "id": "08bbe9a4-a248-4e26-8529-a640f099d6e7",
   "metadata": {},
   "outputs": [],
   "source": [
    "from scheduler import *\n",
    "import matplotlib.pyplot as plt"
   ]
  },
  {
   "cell_type": "code",
   "execution_count": 133,
   "id": "f9c6f701-2f6c-43f8-82bd-830f1a58d548",
   "metadata": {},
   "outputs": [],
   "source": [
    "import sys\n",
    "sys.path.append('src')\n",
    "\n",
    "from scheduler.linkedeventlist import LinkedEventList\n",
    "from scheduler.event import EventNode"
   ]
  },
  {
   "cell_type": "code",
   "execution_count": 134,
   "id": "5ad3efe3",
   "metadata": {},
   "outputs": [],
   "source": [
    "def create_event_node(title: str, time: str = \"10:00\"):\n",
    "    return EventNode(\n",
    "        title=title,\n",
    "        date=\"2025-10-13\",\n",
    "        time=time,\n",
    "        location=\"Test\"\n",
    "    )"
   ]
  },
  {
   "cell_type": "code",
   "execution_count": 135,
   "id": "bd271142",
   "metadata": {},
   "outputs": [
    {
     "name": "stdout",
     "output_type": "stream",
     "text": [
      "11:00\n"
     ]
    }
   ],
   "source": [
    "test_list = LinkedEventList()\n",
    "\n",
    "test_node1 = create_event_node(title = \"Event 1\", time = \"11:00\")\n",
    "test_list.insert(test_node1)\n",
    "\n",
    "t_node = test_list.list_all(sort = False)\n",
    "for e in t_node:\n",
    "    print(e.time)"
   ]
  },
  {
   "cell_type": "code",
   "execution_count": 136,
   "id": "55c800d6",
   "metadata": {},
   "outputs": [
    {
     "name": "stdout",
     "output_type": "stream",
     "text": [
      "11:00 Event 1\n",
      "08:00 Event 2\n"
     ]
    }
   ],
   "source": [
    "test_node2 = create_event_node(title= \"Event 2\", time = \"08:00\")\n",
    "\n",
    "test_list.insert(test_node2)\n",
    "\n",
    "t_node = test_list.list_all(sort = False)\n",
    "for e in t_node:\n",
    "    print(e.time, e.title)"
   ]
  },
  {
   "cell_type": "code",
   "execution_count": 137,
   "id": "090db0f0",
   "metadata": {},
   "outputs": [],
   "source": [
    "test_node3 = create_event_node(\"Event 3\")\n",
    "test_list.insert(test_node3)"
   ]
  },
  {
   "cell_type": "code",
   "execution_count": 138,
   "id": "2704aa0a",
   "metadata": {},
   "outputs": [
    {
     "name": "stdout",
     "output_type": "stream",
     "text": [
      "08:00 Event 2\n",
      "10:00 Event 3\n",
      "11:00 Event 1\n"
     ]
    }
   ],
   "source": [
    "t_node = test_list.list_all(sort = True)\n",
    "for e in t_node:\n",
    "    print(e.time, e.title)"
   ]
  },
  {
   "cell_type": "code",
   "execution_count": 139,
   "id": "68f04793",
   "metadata": {},
   "outputs": [
    {
     "name": "stdout",
     "output_type": "stream",
     "text": [
      "Event 2\n"
     ]
    }
   ],
   "source": [
    "print(test_node1.title)"
   ]
  },
  {
   "cell_type": "code",
   "execution_count": 140,
   "id": "f65e15e9",
   "metadata": {},
   "outputs": [
    {
     "name": "stdout",
     "output_type": "stream",
     "text": [
      "block1 Event 2\n"
     ]
    }
   ],
   "source": [
    "test_list.delete(event = test_node1)"
   ]
  },
  {
   "cell_type": "code",
   "execution_count": 141,
   "id": "09f225bd",
   "metadata": {},
   "outputs": [
    {
     "name": "stdout",
     "output_type": "stream",
     "text": [
      "10:00\n",
      "11:00\n"
     ]
    }
   ],
   "source": [
    "t_node = test_list.list_all(sort = False)\n",
    "for e in t_node:\n",
    "    print(e.time)"
   ]
  },
  {
   "cell_type": "markdown",
   "id": "e29036b0",
   "metadata": {},
   "source": [
    "Final Report: Campus Event Scheduling System"
   ]
  },
  {
   "cell_type": "markdown",
   "id": "be546694",
   "metadata": {},
   "source": []
  }
 ],
 "metadata": {
  "kernelspec": {
   "display_name": "base",
   "language": "python",
   "name": "python3"
  },
  "language_info": {
   "codemirror_mode": {
    "name": "ipython",
    "version": 3
   },
   "file_extension": ".py",
   "mimetype": "text/x-python",
   "name": "python",
   "nbconvert_exporter": "python",
   "pygments_lexer": "ipython3",
   "version": "3.13.5"
  }
 },
 "nbformat": 4,
 "nbformat_minor": 5
}
