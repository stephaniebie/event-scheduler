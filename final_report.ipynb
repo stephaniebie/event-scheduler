{
 "cells": [
  {
   "cell_type": "markdown",
   "id": "88786c4c-d8cd-413e-adf9-280fac8368b3",
   "metadata": {},
   "source": [
    "# Final Report"
   ]
  },
  {
   "cell_type": "code",
   "execution_count": 1,
   "id": "08bbe9a4-a248-4e26-8529-a640f099d6e7",
   "metadata": {},
   "outputs": [],
   "source": [
    "from scheduler import *\n",
    "import matplotlib.pyplot as plt"
   ]
  },
  {
   "cell_type": "code",
   "execution_count": null,
   "id": "f9c6f701-2f6c-43f8-82bd-830f1a58d548",
   "metadata": {},
   "outputs": [],
   "source": []
  }
 ],
 "metadata": {
  "kernelspec": {
   "display_name": "scheduler",
   "language": "python",
   "name": "scheduler"
  },
  "language_info": {
   "codemirror_mode": {
    "name": "ipython",
    "version": 3
   },
   "file_extension": ".py",
   "mimetype": "text/x-python",
   "name": "python",
   "nbconvert_exporter": "python",
   "pygments_lexer": "ipython3",
   "version": "3.13.7"
  }
 },
 "nbformat": 4,
 "nbformat_minor": 5
}
