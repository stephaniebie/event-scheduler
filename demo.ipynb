{
 "cells": [
  {
   "cell_type": "markdown",
   "id": "33cee968-a910-473c-8283-849f2ebee413",
   "metadata": {},
   "source": [
    "# Event Scheduler Demo\n",
    "\n",
    "A concise tutorial for using the `scheduler` package.\n",
    "\n",
    "Start by importing the package:"
   ]
  },
  {
   "cell_type": "code",
   "execution_count": 1,
   "id": "3a91d4ab-f62d-43da-a7c3-177b2c4649c6",
   "metadata": {},
   "outputs": [],
   "source": [
    "from scheduler import *"
   ]
  },
  {
   "cell_type": "code",
   "execution_count": 2,
   "id": "74238518-c217-40a5-aab6-6875a663b1b0",
   "metadata": {},
   "outputs": [],
   "source": [
    "# Helpers. Nothing in this cell is needed in a real use case. These are just used for the purposes of this demo\n",
    "# Import some additional packages\n",
    "from pprint import pprint\n",
    "from random import shuffle\n",
    "from datetime import datetime, timedelta\n",
    "# Define some helper functions\n",
    "display_event_titles = lambda eventlist: print([e.title for e in eventlist.list_all(sort = False)])\n",
    "display_event = lambda event: pprint(vars(event))"
   ]
  },
  {
   "cell_type": "markdown",
   "id": "c184f90c-0ad2-4d87-85f7-467f5e3fa18a",
   "metadata": {},
   "source": [
    "## EventList\n",
    "We have two different list data structures to choose from. Let's begin with the array-like structure, `EventList`:"
   ]
  },
  {
   "cell_type": "code",
   "execution_count": 3,
   "id": "1243b5aa-50cb-4a92-8139-285db6ce5b96",
   "metadata": {},
   "outputs": [],
   "source": [
    "# Initialize an array-like event list\n",
    "event_list = EventList()"
   ]
  },
  {
   "cell_type": "markdown",
   "id": "a2a1cd46-5d1e-4ce4-baa4-c2055a4bc8c8",
   "metadata": {},
   "source": [
    "Similar to how the Java ArrayList works, we can insert, remove, display, and even search within the list.\n",
    "\n",
    "Each individual item in the list is an `Event` object, which takes in four parameters:\n",
    "- `title` (str): The title of the event\n",
    "- `date` (str): The date the event will take place in the form YYYY-MM-DD\n",
    "- `time` (str): The time the event will take place in the form HH:MM\n",
    "- `datetime` (tuple | None): A tuple composed of the inputted date and time\n",
    "- `location` (str): The location of the event"
   ]
  },
  {
   "cell_type": "code",
   "execution_count": 4,
   "id": "bb850180-2917-49b7-afaa-85c5c1869343",
   "metadata": {},
   "outputs": [],
   "source": [
    "# Choose a number of events to insert\n",
    "number_of_events = 10\n",
    "\n",
    "# Generate a collection of indicies and randomize the order\n",
    "indices = list(range(number_of_events))\n",
    "shuffle(indices)\n",
    "\n",
    "for i, idx in enumerate(indices):\n",
    "    # Generate some date times separated by an hour\n",
    "    dt = datetime.strftime(datetime(2025, 10, 15, 0, 0) + timedelta(hours=idx), \"%Y-%m-%d %H:%M\")\n",
    "    date, time = dt.split(\" \")\n",
    "\n",
    "    # Insert event into list\n",
    "    event_list.insert(\n",
    "        Event(\n",
    "            title = f\"Event {idx + 1}\",\n",
    "            date = date,\n",
    "            time = time,\n",
    "            location = f\"Location {i + 1}\",\n",
    "        )\n",
    "    )"
   ]
  },
  {
   "cell_type": "markdown",
   "id": "8101badf-6e83-4407-8387-379d7702ac47",
   "metadata": {},
   "source": [
    "We can see here that we now have a collection of non-conflicting events:"
   ]
  },
  {
   "cell_type": "code",
   "execution_count": 5,
   "id": "14c2f43d-f88e-4182-ac29-d6e1da43b123",
   "metadata": {},
   "outputs": [
    {
     "name": "stdout",
     "output_type": "stream",
     "text": [
      "Number of events: 10\n"
     ]
    },
    {
     "data": {
      "text/plain": [
       "[<scheduler.event.Event at 0x293377942f0>,\n",
       " <scheduler.event.Event at 0x293377a4910>,\n",
       " <scheduler.event.Event at 0x293377a47d0>,\n",
       " <scheduler.event.Event at 0x293377229e0>,\n",
       " <scheduler.event.Event at 0x29337722b10>,\n",
       " <scheduler.event.Event at 0x293375dfd10>,\n",
       " <scheduler.event.Event at 0x2933773ecf0>,\n",
       " <scheduler.event.Event at 0x2933773e030>,\n",
       " <scheduler.event.Event at 0x293375a9e50>,\n",
       " <scheduler.event.Event at 0x293375a9b50>]"
      ]
     },
     "execution_count": 5,
     "metadata": {},
     "output_type": "execute_result"
    }
   ],
   "source": [
    "print(f\"Number of events: {len(event_list)}\")\n",
    "# List all elements in the list\n",
    "event_list.list_all(sort = False)"
   ]
  },
  {
   "cell_type": "markdown",
   "id": "d73c498c-1e60-4947-93f6-b535ef462d3c",
   "metadata": {},
   "source": [
    "As of version 0.1.2, we have not implemented a nicely printable version of the defined classes. So in the meanwhile, we can use the `Event` attributes at our disposal to better understand our data structure."
   ]
  },
  {
   "cell_type": "code",
   "execution_count": 6,
   "id": "5bb5fa0e-318c-43fc-a90f-ffcf1d56274a",
   "metadata": {},
   "outputs": [
    {
     "name": "stdout",
     "output_type": "stream",
     "text": [
      "['Event 9', 'Event 6', 'Event 10', 'Event 4', 'Event 3', 'Event 2', 'Event 8', 'Event 1', 'Event 7', 'Event 5']\n",
      "['Event 9', 'Event 6', 'Event 10', 'Event 4', 'Event 3', 'Event 2', 'Event 8', 'Event 1', 'Event 7', 'Event 5']\n"
     ]
    }
   ],
   "source": [
    "# Display the event titles\n",
    "# Choose from either...\n",
    "print([event.title for event in event_list.list_all(sort = False)])\n",
    "# Or simply...\n",
    "print([event.title for event in event_list])"
   ]
  },
  {
   "cell_type": "markdown",
   "id": "ada758d6-0813-4936-946c-d380d09f666d",
   "metadata": {},
   "source": [
    "We can do a number of operations on this list using the `EventList` modules:"
   ]
  },
  {
   "cell_type": "code",
   "execution_count": 7,
   "id": "36363cf0-70c6-4af6-b193-0e226e16e65d",
   "metadata": {},
   "outputs": [
    {
     "name": "stdout",
     "output_type": "stream",
     "text": [
      "['Event 9', 'Event 6', 'Event 10', 'Event 3', 'Event 2', 'Event 8', 'Event 1', 'Event 7', 'Event 5']\n"
     ]
    }
   ],
   "source": [
    "# Delete an element by index\n",
    "event_list.delete(index = 3)\n",
    "display_event_titles(event_list)"
   ]
  },
  {
   "cell_type": "code",
   "execution_count": 8,
   "id": "78477c55-0904-465a-98a6-ea97d3f9527d",
   "metadata": {},
   "outputs": [
    {
     "name": "stdout",
     "output_type": "stream",
     "text": [
      "['Event 9', 'Event 6', 'Event 10', 'Event 3', 'Event 2', 'A New Event', 'Event 8', 'Event 1', 'Event 7', 'Event 5']\n"
     ]
    }
   ],
   "source": [
    "# Insert an event at a specific index\n",
    "event_list.insert(\n",
    "    event = Event(\n",
    "        title = \"A New Event\",\n",
    "        date = \"2025-12-31\",\n",
    "        time = \"11:59\",\n",
    "        location = \"Some Location\",\n",
    "    ),\n",
    "    index = 5\n",
    ")\n",
    "display_event_titles(event_list)"
   ]
  },
  {
   "cell_type": "code",
   "execution_count": 9,
   "id": "ceea1146-c5b6-4d9a-9f18-df8ccabe3101",
   "metadata": {},
   "outputs": [
    {
     "name": "stdout",
     "output_type": "stream",
     "text": [
      "{'_id': 11,\n",
      " 'date': '2025-12-31',\n",
      " 'end_time': datetime.datetime(2025, 12, 31, 12, 59),\n",
      " 'location': 'Some Location',\n",
      " 'start_time': datetime.datetime(2025, 12, 31, 11, 59),\n",
      " 'time': '11:59',\n",
      " 'title': 'A New Event'}\n"
     ]
    }
   ],
   "source": [
    "# Search by ID\n",
    "found_event = event_list.search_by_id(id = 11)\n",
    "display_event(found_event)"
   ]
  },
  {
   "cell_type": "code",
   "execution_count": 10,
   "id": "582f282d-1a8d-41b1-9440-38a6af78d418",
   "metadata": {},
   "outputs": [
    {
     "name": "stdout",
     "output_type": "stream",
     "text": [
      "['Event 1', 'Event 2', 'Event 3', 'Event 5', 'Event 6', 'Event 7', 'Event 8', 'Event 9', 'Event 10', 'A New Event']\n"
     ]
    }
   ],
   "source": [
    "# Sort the data in the list by time\n",
    "event_list.list_all(sort = True)\n",
    "display_event_titles(event_list)"
   ]
  },
  {
   "cell_type": "markdown",
   "id": "76fd3a1c-5edf-4f2a-9ae6-4a9f506ffff4",
   "metadata": {},
   "source": [
    "## LinkedEventList\n",
    "\n",
    "The second data structure is the `LinkedEventList`, which is a singly-linked list implementation of our event list from above. A user will interact with `LinkedEventList` in much the same way as `EventList`. The primary difference is that instead of `Event` objects, we now have `EventNode` objects."
   ]
  },
  {
   "cell_type": "code",
   "execution_count": 11,
   "id": "c88b1df5-da81-4557-a4d9-da2197ad7e64",
   "metadata": {},
   "outputs": [],
   "source": [
    "# Initialize a linked event list\n",
    "linked_event_list = LinkedEventList()"
   ]
  },
  {
   "cell_type": "code",
   "execution_count": 12,
   "id": "34f8d8b5-0a0e-4f4e-8d6a-56770d0e9259",
   "metadata": {},
   "outputs": [
    {
     "name": "stdout",
     "output_type": "stream",
     "text": [
      "['Event 9', 'Event 6', 'Event 10', 'Event 4', 'Event 3', 'Event 2', 'Event 8', 'Event 1', 'Event 7', 'Event 5']\n"
     ]
    }
   ],
   "source": [
    "for i, idx in enumerate(indices):\n",
    "    # Generate some date times separated by an hour\n",
    "    dt = datetime.strftime(datetime(2025, 10, 15, 0, 0) + timedelta(hours=idx), \"%Y-%m-%d %H:%M\")\n",
    "    date, time = dt.split(\" \")\n",
    "\n",
    "    # Insert event into list\n",
    "    linked_event_list.insert(\n",
    "        EventNode(\n",
    "            title = f\"Event {idx + 1}\",\n",
    "            date = date,\n",
    "            time = time,\n",
    "            location = f\"Location {i + 1}\",\n",
    "        )\n",
    "    )\n",
    "display_event_titles(linked_event_list)"
   ]
  },
  {
   "cell_type": "code",
   "execution_count": 13,
   "id": "1f085dc8-034d-42ce-954c-f47cbdb05932",
   "metadata": {},
   "outputs": [
    {
     "name": "stdout",
     "output_type": "stream",
     "text": [
      "Delete an element by index:\n",
      "['Event 9', 'Event 6', 'Event 10', 'Event 3', 'Event 2', 'Event 8', 'Event 1', 'Event 7', 'Event 5']\n",
      "\n",
      "Insert an event at a specific index:\n",
      "['Event 9', 'Event 6', 'Event 10', 'Event 3', 'Event 2', 'A New Event', 'Event 8', 'Event 1', 'Event 7', 'Event 5']\n",
      "\n",
      "Search by ID:\n",
      "{'_id': 11,\n",
      " 'date': '2025-12-31',\n",
      " 'end_time': datetime.datetime(2025, 12, 31, 12, 59),\n",
      " 'location': 'Some Location',\n",
      " 'next': None,\n",
      " 'start_time': datetime.datetime(2025, 12, 31, 11, 59),\n",
      " 'time': '11:59',\n",
      " 'title': 'A New Event'}\n",
      "\n",
      "Sort the data in the list by time:\n",
      "['Event 1', 'Event 2', 'Event 3', 'Event 5', 'Event 6', 'Event 7', 'Event 8', 'Event 9', 'Event 10', 'A New Event']\n"
     ]
    }
   ],
   "source": [
    "print(\"Delete an element by index:\")\n",
    "linked_event_list.delete(index = 3)\n",
    "display_event_titles(linked_event_list)\n",
    "\n",
    "print(\"\\nInsert an event at a specific index:\")\n",
    "linked_event_list.insert(\n",
    "    event = EventNode(\n",
    "        title = \"A New Event\",\n",
    "        date = \"2025-12-31\",\n",
    "        time = \"11:59\",\n",
    "        location = \"Some Location\",\n",
    "    ),\n",
    "    index = 5\n",
    ")\n",
    "display_event_titles(linked_event_list)\n",
    "\n",
    "print(\"\\nSearch by ID:\")\n",
    "found_event = linked_event_list.search_by_id(id = 11)\n",
    "display_event(found_event)\n",
    "\n",
    "print(\"\\nSort the data in the list by time:\")\n",
    "linked_event_list.list_all(sort = True)\n",
    "display_event_titles(linked_event_list)"
   ]
  },
  {
   "cell_type": "markdown",
   "id": "0c700ad8-daee-4701-ada5-ab81adf734b0",
   "metadata": {},
   "source": [
    "## Customizable Interactions\n",
    "\n",
    "This package also gives the user the freedom to customize how they want to search and sort their lists using the `SearchAlgorithm` and `SortingAlgorithm` enumerations, respectively.\n",
    "\n",
    "Currently, the choices for the two enumerations are as follows:\n",
    "- `SearchAlgorithm.BINARY`: Binary search (default)\n",
    "- `SearchAlgorithm.LINEAR`: Linear search\n",
    "- `SortingAlgorithm.QUICK`: Quick sort (default)\n",
    "- `SortingAlgorithm.MERGE`: Merge sort\n",
    "- `SortingAlgorithm.INSERTION`: Insertion sort\n",
    "\n",
    "Here's an example for how we can use both types of enums:"
   ]
  },
  {
   "cell_type": "code",
   "execution_count": 14,
   "id": "028702c4-b236-4278-896c-b7eb7af78fb9",
   "metadata": {},
   "outputs": [
    {
     "name": "stdout",
     "output_type": "stream",
     "text": [
      "['Event 1', 'Event 2', 'Event 3', 'Event 5', 'Event 6', 'Event 7', 'Event 8', 'Event 9', 'Event 10', 'A New Event']\n"
     ]
    }
   ],
   "source": [
    "event_list.list_all(sort = SortingAlgorithm.INSERTION)\n",
    "display_event_titles(event_list)"
   ]
  },
  {
   "cell_type": "code",
   "execution_count": 15,
   "id": "e7272931-14c0-48b3-aac7-f57d5a58341f",
   "metadata": {},
   "outputs": [
    {
     "name": "stdout",
     "output_type": "stream",
     "text": [
      "{'_id': 3,\n",
      " 'date': '2025-10-15',\n",
      " 'end_time': datetime.datetime(2025, 10, 15, 10, 0),\n",
      " 'location': 'Location 3',\n",
      " 'start_time': datetime.datetime(2025, 10, 15, 9, 0),\n",
      " 'time': '09:00',\n",
      " 'title': 'Event 10'}\n"
     ]
    }
   ],
   "source": [
    "found_event = event_list.search_by_id(id = 3, algorithm = SearchAlgorithm.LINEAR)\n",
    "display_event(found_event)"
   ]
  },
  {
   "cell_type": "code",
   "execution_count": null,
   "id": "c3dc9338-8d39-4c9e-b07a-00a8346142c5",
   "metadata": {},
   "outputs": [],
   "source": []
  }
 ],
 "metadata": {
  "kernelspec": {
   "display_name": "scheduler",
   "language": "python",
   "name": "scheduler"
  },
  "language_info": {
   "codemirror_mode": {
    "name": "ipython",
    "version": 3
   },
   "file_extension": ".py",
   "mimetype": "text/x-python",
   "name": "python",
   "nbconvert_exporter": "python",
   "pygments_lexer": "ipython3",
   "version": "3.13.8"
  }
 },
 "nbformat": 4,
 "nbformat_minor": 5
}
